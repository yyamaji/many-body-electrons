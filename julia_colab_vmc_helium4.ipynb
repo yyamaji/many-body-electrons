{
  "nbformat": 4,
  "nbformat_minor": 0,
  "metadata": {
    "colab": {
      "name": "julia_colab_vmc_helium4.ipynb",
      "provenance": [],
      "collapsed_sections": [],
      "toc_visible": true
    },
    "kernelspec": {
      "name": "julia-1.6",
      "display_name": "julia-1.6"
    }
  },
  "cells": [
    {
      "cell_type": "markdown",
      "metadata": {
        "id": "kcnexVYwCOVJ"
      },
      "source": [
        "# Juliaの導入\n",
        "\n",
        "Google ColabではPythonが標準となっていますが、今回の実習では、多くの計算が手軽に、より素早く、実行できるJuliaLangを使ってみましょう。\n",
        "\n",
        "まず、以下のセルの命令を実行してみてください。\n",
        "\n",
        "shitf+enterもしくは左側のボタンで実行可能です。\n",
        "\n",
        "こちらのやり方は、以下の記事で紹介されたものです:\n",
        "\n",
        "https://qiita.com/ueuema/items/ca1b326f5df10a4203bd\n",
        "\n",
        "https://qiita.com/cometscome_phys/items/1ba6ec181bb0fe1b35d5"
      ]
    },
    {
      "cell_type": "code",
      "metadata": {
        "id": "CN08w8uiICa8"
      },
      "source": [
        "!curl -sSL \"https://julialang-s3.julialang.org/bin/linux/x64/1.6/julia-1.6.2-linux-x86_64.tar.gz\" -o julia.tar.gz\n",
        "!tar -xzf julia.tar.gz -C /usr --strip-components 1\n",
        "!rm -rf julia.tar.gz*\n",
        "!julia -e 'using Pkg; pkg\"add IJulia\"'"
      ],
      "execution_count": null,
      "outputs": []
    },
    {
      "cell_type": "markdown",
      "metadata": {
        "id": "sGOaN98-IZxj"
      },
      "source": [
        "## ランタイムの設定\n",
        "\n",
        "上のセルの実行後、\n",
        "\n",
        "上部のメニューから、\"ランタイム\"→\"ランタイムのタイプを変更\"を開いて、\n",
        "\n",
        "ランタイムのタイプが\"julia-1.6\"になっているか確認し、\"保存\"を実行してください。"
      ]
    },
    {
      "cell_type": "markdown",
      "metadata": {
        "id": "c53ctogvCtNz"
      },
      "source": [
        "## Juliaの動作確認\n",
        "\n",
        "以下のセルを実行してみてください。\n",
        "\n",
        "**Juliaのversionが表示されたらJuliaの導入に成功です。**"
      ]
    },
    {
      "cell_type": "code",
      "metadata": {
        "id": "ls5Cl0hsIndc"
      },
      "source": [
        "versioninfo()"
      ],
      "execution_count": null,
      "outputs": []
    },
    {
      "cell_type": "markdown",
      "metadata": {
        "id": "V9SkBEg3F8Zg"
      },
      "source": [
        "# 計算の実例\n",
        "\n",
        "実際にJuliaを用いたプログラムを動かしてみます。\n",
        "\n",
        "プログラムは、以下のMcMillanの論文に基づき、液体ヘリウム４の２点動径分布関数g(r)を変分モンテカルロ法によって計算します。\n",
        "\n",
        "[W. L. McMillan, Phys. Rev. 138, A442 (1965)](https://journals.aps.org/pr/abstract/10.1103/PhysRev.138.A442)\n"
      ]
    },
    {
      "cell_type": "markdown",
      "metadata": {
        "id": "iLEWCg_fGWt0"
      },
      "source": [
        "## 準備\n",
        "\n",
        "手軽な計算のためにパッケージを導入します。\n",
        "\n",
        "以下では計算データを図として書き出すためのPlotsと、\n",
        "\n",
        "乱数を用いるためにRandomを準備しています。\n",
        "\n",
        "\"import Pkg\"には数分かかることがあります。"
      ]
    },
    {
      "cell_type": "code",
      "metadata": {
        "id": "VCVG9IhS1y34"
      },
      "source": [
        "import Pkg; Pkg.add(\"Plots\")\n",
        "using Plots\n",
        "using Random"
      ],
      "execution_count": null,
      "outputs": []
    },
    {
      "cell_type": "markdown",
      "metadata": {
        "id": "nTRcAS75HLhv"
      },
      "source": [
        "## モジュール\n",
        "\n",
        "以下では定数と関数を束ねたモジュールを作成しています。"
      ]
    },
    {
      "cell_type": "code",
      "metadata": {
        "id": "hBprUAMp5hgu"
      },
      "source": [
        "module Helium4\n",
        "\n",
        "# physical constant\n",
        "    hbar = 1.054571e-34 # kg m^2 / s\n",
        "    kB = 1.380649e-23 # J / K\n",
        "  # ヘリウム4原子の質量\n",
        "    massHe4 = 4.00260325415 * 1.0e-3 / 6.022140e+23 # kg\n",
        "    mass = kB * massHe4 * 1.0e-20 / hbar^2 # K^-1 angstrom^-2\n",
        "  # レナード-ジョーンズポテンシャルのパラメータ\n",
        "    epsLJ = 1.41102e-22 / kB # K\n",
        "    sigmaLJ = 2.556 # angstrom\n",
        "\n",
        "# パラメータと変数の集まり    \n",
        "    mutable struct Param\n",
        "        a1::Float64\n",
        "        a2::Float64\n",
        "        L::Float64\n",
        "        N::Int\n",
        "        rcut::Float64\n",
        "        config::Array{Float64,2} # (3,N)\n",
        "        dist::Array{Float64,2} #  (N,N)\n",
        "        Param() = new()\n",
        "    end\n",
        "\n",
        "# 初期化\n",
        "    function initialize(param::Param, a1, a2, L, N)\n",
        "        param.a1 = a1\n",
        "        param.a2 = a2\n",
        "        param.L = L\n",
        "        param.N = N\n",
        "        param.rcut = 0.5*a1\n",
        "        param.config = zeros(Float64,3,N) # column-major\n",
        "        param.dist = zeros(Float64,N,N) # column-major\n",
        "        return 0 \n",
        "    end\n",
        "\n",
        "    function initialize_config(param::Param)\n",
        "        for j in 1:param.N\n",
        "            for i in 1:3\n",
        "                param.config[i,j] = param.L * rand(Float64)\n",
        "            end\n",
        "        end\n",
        "        for iupdate in 1:param.N\n",
        "            update_dist(param, iupdate)\n",
        "        end\n",
        "    end\n",
        "\n",
        "# 原子配置の更新\n",
        "    function update_config(param::Param, iupdate)\n",
        "        d = 0.05*param.L\n",
        "        for i in 1:3\n",
        "            param.config[i,iupdate] += 2.0*d*(rand(Float64)-0.5)\n",
        "            param.config[i,iupdate] = mod(param.config[i,iupdate], param.L)\n",
        "        end\n",
        "    end\n",
        "\n",
        "    function update_dist(param::Param, iupdate)\n",
        "        for i in 1:param.N\n",
        "            tmp_dist = dist_periodic(param,param.config[:,i],param.config[:,iupdate])\n",
        "            if tmp_dist > param.rcut\n",
        "                param.dist[i,iupdate] = tmp_dist\n",
        "                param.dist[iupdate,i] = tmp_dist\n",
        "            else\n",
        "                param.dist[i,iupdate] = param.rcut\n",
        "                param.dist[iupdate,i] = param.rcut\n",
        "            end\n",
        "        end\n",
        "    end\n",
        "\n",
        "    function dist_periodic(param::Param, r1, r2)\n",
        "        dist_old = sqrt(3.0)*param.L\n",
        "        for iz in -1:1\n",
        "            for iy in -1:1\n",
        "                for ix in -1:1\n",
        "                    tmp_dist = 0.0\n",
        "                    tmp_dist += (param.L*ix + r1[1] - r2[1])^2\n",
        "                    tmp_dist += (param.L*iy + r1[2] - r2[2])^2\n",
        "                    tmp_dist += (param.L*iz + r1[3] - r2[3])^2\n",
        "                    tmp_dist = sqrt(tmp_dist)\n",
        "                    if tmp_dist < dist_old\n",
        "                        dist_old = tmp_dist\n",
        "                    end\n",
        "                end\n",
        "            end\n",
        "        end\n",
        "        return dist_old\n",
        "    end\n",
        "\n",
        "# Jastrow因子\n",
        "    function func_u(param::Param, r::Float64)\n",
        "        uofr = 0.0\n",
        "        if r > param.rcut\n",
        "            uofr = (param.a1/r)^param.a2\n",
        "        else\n",
        "            uofr = (param.a1/param.rcut)^param.a2\n",
        "        end\n",
        "        return uofr\n",
        "    end\n",
        "\n",
        "# 動径分布関数\n",
        "    function accum_Nrdr(param::Param, Ndr, Nrdr)\n",
        "        rmax = 0.5*param.L\n",
        "        dr = rmax/Ndr\n",
        "        for m in 1:Ndr\n",
        "            r = rmax*(m-0.5)/Ndr\n",
        "            for j in 1:(param.N-1)\n",
        "                for i in (j+1):param.N\n",
        "                    if (param.dist[i,j] >= r - 0.5*dr) && (param.dist[i,j] < r + 0.5*dr)\n",
        "                        Nrdr[m] += 1.0\n",
        "                    end\n",
        "                end\n",
        "            end\n",
        "        end\n",
        "    end\n",
        "    \n",
        "    function calc_gofr(param::Param, Nsample, Ndr, Nrdr, gofr, vecr)\n",
        "        Ω = param.L^3\n",
        "        ρ = param.N*1.0 / Ω\n",
        "        rmax = 0.5*param.L\n",
        "        dr = rmax/Ndr\n",
        "        for m in 1:Ndr\n",
        "            r = rmax*(m-0.5)/Ndr\n",
        "            vecr[m] = r\n",
        "            gofr[m] = Nrdr[m]/(2.0*Nsample*π*(ρ^2)*Ω*(r^2)*dr)\n",
        "        end\n",
        "    end\n",
        "\n",
        "end"
      ],
      "execution_count": null,
      "outputs": []
    },
    {
      "cell_type": "markdown",
      "metadata": {
        "id": "1DLbI_jVHiLg"
      },
      "source": [
        "## モジュール、変分パラメータ、計算サイズ"
      ]
    },
    {
      "cell_type": "code",
      "metadata": {
        "id": "HOj_u9_r5qxn"
      },
      "source": [
        "using .Helium4\n",
        "\n",
        "a1 = 2.6 # 変分パラメータ\n",
        "a2 = 5.0 # 変分パラメータ\n",
        "L = 11.2　# 立方体周期境界条件の計算セル一辺の長さ(ang)\n",
        "N = 32 # 計算セル内のヘリウム４原子の個数\n",
        "\n",
        "param = Helium4.Param()\n",
        "Helium4.initialize(param, a1, a2, L, N)\n",
        "Helium4.initialize_config(param)"
      ],
      "execution_count": null,
      "outputs": []
    },
    {
      "cell_type": "markdown",
      "metadata": {
        "id": "-zn7KJrIIC0L"
      },
      "source": [
        "## 計算条件の設定"
      ]
    },
    {
      "cell_type": "code",
      "metadata": {
        "id": "Rw1rGOtqIaku"
      },
      "source": [
        "# ウォーミングアップとモンテカルロ・サンプリング数、および乱数のシード\n",
        "Nwup = 3200\n",
        "Nsample = 12800\n",
        "Random.seed!(10)\n",
        "# 動径分布関数を計算するための準備\n",
        "Ndr = 64\n",
        "Nrdr = zeros(Float64, Ndr)\n",
        "gofr = zeros(Float64, Ndr)\n",
        "vecr = zeros(Float64, Ndr)"
      ],
      "execution_count": null,
      "outputs": []
    },
    {
      "cell_type": "markdown",
      "metadata": {
        "id": "g4k9r2ekIb7E"
      },
      "source": [
        "## ウォーミングアップ"
      ]
    },
    {
      "cell_type": "code",
      "metadata": {
        "id": "ULmw3h1n6BIv"
      },
      "source": [
        "# warming up\n",
        "config_old = zeros(Float64, 3, param.N)\n",
        "dist_old = zeros(Float64, param.N, param.N)\n",
        "for i in 1:Nwup\n",
        "    for j in 1:param.N\n",
        "        config_old .= param.config\n",
        "        dist_old .= param.dist\n",
        "        iupdate = Int(floor(rand(Float64)*param.N)) + 1\n",
        "        if iupdate > param.N\n",
        "            println(\"error!\", iupdate)\n",
        "        end\n",
        "        Helium4.update_config(param,iupdate)        \n",
        "        Helium4.update_dist(param,iupdate)\n",
        "        lnPNt = 0.0\n",
        "        lnPNi = 0.0\n",
        "        for m in 1:param.N\n",
        "            if m ≠ iupdate\n",
        "                lnPNt -= 2.0*Helium4.func_u(param,param.dist[m,iupdate])\n",
        "                lnPNi -= 2.0*Helium4.func_u(param,dist_old[m,iupdate])\n",
        "                if (param.dist[m,iupdate]- dist_old[m,iupdate]) == 0.0\n",
        "                   println(\"dist is not\")\n",
        "                end\n",
        "            end\n",
        "        end\n",
        "        ratio = exp(lnPNt - lnPNi)\n",
        "        if ratio <= rand(Float64)\n",
        "            param.config[:,:] = config_old[:,:]\n",
        "            param.dist[:,:] = dist_old[:,:]\n",
        "        end\n",
        "    end\n",
        "    if i % 100 == 0\n",
        "        println(\"Wup\",i,\" \",param.config[1,1])\n",
        "    end\n",
        "end"
      ],
      "execution_count": null,
      "outputs": []
    },
    {
      "cell_type": "markdown",
      "metadata": {
        "id": "V12y7SCaIhlh"
      },
      "source": [
        "## モンテカルロ・サンプリング"
      ]
    },
    {
      "cell_type": "code",
      "metadata": {
        "id": "XP7fh7RK6JIe"
      },
      "source": [
        "for i in 1:Nsample\n",
        "    for j in 1:param.N\n",
        "        config_old .= param.config\n",
        "        dist_old .= param.dist\n",
        "        iupdate = Int(floor(rand(Float64)*param.N)) + 1\n",
        "        Helium4.update_config(param,iupdate)\n",
        "        Helium4.update_dist(param,iupdate)\n",
        "        lnPNt = 0.0\n",
        "        lnPNi = 0.0\n",
        "        for m in 1:param.N\n",
        "            if m ≠ iupdate\n",
        "                lnPNt -= 2.0*Helium4.func_u(param,param.dist[m,iupdate])\n",
        "                lnPNi -= 2.0*Helium4.func_u(param,dist_old[m,iupdate])\n",
        "            end\n",
        "        end\n",
        "        ratio = exp(lnPNt - lnPNi)\n",
        "        if ratio <= rand(Float64)\n",
        "            param.config[:,:] = config_old[:,:]\n",
        "            param.dist[:,:] = dist_old[:,:]\n",
        "        end\n",
        "    end\n",
        "    if i % 100 == 0\n",
        "        println(\"MCstep\",i,\" \",param.config[1,1])\n",
        "    end\n",
        "    Helium4.accum_Nrdr(param,Ndr,Nrdr)\n",
        "end\n",
        "Helium4.calc_gofr(param,Nsample,Ndr,Nrdr,gofr,vecr)"
      ],
      "execution_count": null,
      "outputs": []
    },
    {
      "cell_type": "markdown",
      "metadata": {
        "id": "pGcatR7tMT_b"
      },
      "source": [
        "## 計算結果のプロット"
      ]
    },
    {
      "cell_type": "code",
      "metadata": {
        "id": "4fZ7UVMJMSz3"
      },
      "source": [
        "plot(vecr,gofr,xlabel=\"r\",ylabel=\"g(r)\")"
      ],
      "execution_count": null,
      "outputs": []
    },
    {
      "cell_type": "markdown",
      "metadata": {
        "id": "P63H5OgwLgtG"
      },
      "source": [
        "# 計算の確認\n",
        "\n",
        "上のセル実行後に、以下のような図が表示されたら計算成功です。\n",
        "\n",
        "[g(r)の図](https://github.com/yyamaji/many-body-electrons/blob/4dc4353067b08462159ed9fdfb9290b7290c3a9a/vmc_gofr_4He.png)"
      ]
    }
  ]
}